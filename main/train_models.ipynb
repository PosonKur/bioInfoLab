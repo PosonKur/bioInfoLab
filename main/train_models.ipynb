{
 "cells": [
  {
   "cell_type": "code",
   "execution_count": 1,
   "id": "e978ce43",
   "metadata": {},
   "outputs": [],
   "source": [
    "# Import required libraries\n",
    "import pandas as pd\n",
    "import numpy as np\n",
    "import torch\n",
    "from model_builder import create_dnn_model, create_cnn_model\n",
    "from sklearn.model_selection import train_test_split\n",
    "from sklearn.preprocessing import LabelEncoder\n",
    "from model_builder import SimpleDNN, SimpleCNN\n",
    "\n",
    "input_csv = \"patches_with_majority_pathology.csv\"\n",
    "df = pd.read_csv(input_csv)\n",
    "#print(df.head())\n",
    "\n",
    "feature_cols = [str(i) for i in range(1536)]\n",
    "X = df[feature_cols].values.astype(np.float32)\n",
    "y = LabelEncoder().fit_transform(df['label'].values).astype(np.int64)\n",
    "X_train, X_test, y_train, y_test = train_test_split(X, y, test_size=0.2, random_state=42)\n",
    "\n"
   ]
  },
  {
   "cell_type": "markdown",
   "id": "3b436ded",
   "metadata": {},
   "source": [
    "Get pathology training data"
   ]
  },
  {
   "cell_type": "code",
   "execution_count": 2,
   "id": "39460e52",
   "metadata": {},
   "outputs": [],
   "source": [
    "input_csv = \"patches_with_majority_pathology.csv\"\n",
    "df = pd.read_csv(input_csv)\n",
    "#print(df.head())\n",
    "feature_cols = [str(i) for i in range(1536)]\n",
    "X = df[feature_cols].values.astype(np.float32)\n",
    "y = LabelEncoder().fit_transform(df['label'].values).astype(np.int64)"
   ]
  },
  {
   "cell_type": "markdown",
   "id": "41b11fbc",
   "metadata": {},
   "source": [
    "Split data into training and testing sets"
   ]
  },
  {
   "cell_type": "code",
   "execution_count": 3,
   "id": "7e7ae8c7",
   "metadata": {},
   "outputs": [
    {
     "name": "stdout",
     "output_type": "stream",
     "text": [
      "Training set size: 4414\n",
      "Testing set size: 1104\n"
     ]
    }
   ],
   "source": [
    "X_train, X_test, y_train, y_test = train_test_split(X, y, test_size=0.2, random_state=42)\n",
    "print(f\"Training set size: {X_train.shape[0]}\")\n",
    "print(f\"Testing set size: {X_test.shape[0]}\")"
   ]
  },
  {
   "cell_type": "markdown",
   "id": "c65a6ab6",
   "metadata": {},
   "source": [
    "Train DNN model"
   ]
  },
  {
   "cell_type": "code",
   "execution_count": 4,
   "id": "5504dd0b",
   "metadata": {},
   "outputs": [
    {
     "name": "stdout",
     "output_type": "stream",
     "text": [
      "DNN: Epoch 1 completed. Average Loss: 0.3851\n",
      "DNN Accuracy: 0.890\n",
      "DNN model + labels saved to models/dnn_pathology_model.pth\n",
      "DNN model + labels saved to models/dnn_pathology_model.pth\n"
     ]
    }
   ],
   "source": [
    "dnn_output_path = \"models/dnn_pathology_model.pth\"\n",
    "create_dnn_model(input_csv, dnn_output_path, epochs=1)"
   ]
  },
  {
   "cell_type": "markdown",
   "id": "000164a5",
   "metadata": {},
   "source": [
    "Train CNN model"
   ]
  },
  {
   "cell_type": "code",
   "execution_count": 5,
   "id": "a26ca9d6",
   "metadata": {},
   "outputs": [
    {
     "name": "stdout",
     "output_type": "stream",
     "text": [
      "CNN: Epoch 1 completed. Average Loss: 0.4656\n",
      "CNN Accuracy: 0.878\n",
      "CNN Accuracy: 0.878\n",
      "CNN model + labels saved to models/cnn_pathology_model.pth\n",
      "CNN model + labels saved to models/cnn_pathology_model.pth\n"
     ]
    }
   ],
   "source": [
    "cnn_output_path = \"models/cnn_pathology_model.pth\"\n",
    "create_cnn_model(input_csv, cnn_output_path, epochs=1)"
   ]
  },
  {
   "cell_type": "code",
   "execution_count": 6,
   "id": "b5b30448",
   "metadata": {},
   "outputs": [
    {
     "name": "stderr",
     "output_type": "stream",
     "text": [
      "/tmp/ipykernel_30991/1103146642.py:8: FutureWarning: You are using `torch.load` with `weights_only=False` (the current default value), which uses the default pickle module implicitly. It is possible to construct malicious pickle data which will execute arbitrary code during unpickling (See https://github.com/pytorch/pytorch/blob/main/SECURITY.md#untrusted-models for more details). In a future release, the default value for `weights_only` will be flipped to `True`. This limits the functions that could be executed during unpickling. Arbitrary objects will no longer be allowed to be loaded via this mode unless they are explicitly allowlisted by the user via `torch.serialization.add_safe_globals`. We recommend you start setting `weights_only=True` for any use case where you don't have full control of the loaded file. Please open an issue on GitHub for any issues related to this experimental feature.\n",
      "  checkpoint_dnn = torch.load(dnn_output_path)\n",
      "/tmp/ipykernel_30991/1103146642.py:14: FutureWarning: You are using `torch.load` with `weights_only=False` (the current default value), which uses the default pickle module implicitly. It is possible to construct malicious pickle data which will execute arbitrary code during unpickling (See https://github.com/pytorch/pytorch/blob/main/SECURITY.md#untrusted-models for more details). In a future release, the default value for `weights_only` will be flipped to `True`. This limits the functions that could be executed during unpickling. Arbitrary objects will no longer be allowed to be loaded via this mode unless they are explicitly allowlisted by the user via `torch.serialization.add_safe_globals`. We recommend you start setting `weights_only=True` for any use case where you don't have full control of the loaded file. Please open an issue on GitHub for any issues related to this experimental feature.\n",
      "  checkpoint_cnn = torch.load(cnn_output_path)\n"
     ]
    },
    {
     "data": {
      "text/plain": [
       "SimpleCNN(\n",
       "  (conv): Sequential(\n",
       "    (0): Conv1d(1, 16, kernel_size=(5,), stride=(1,), padding=(2,))\n",
       "    (1): ReLU()\n",
       "    (2): MaxPool1d(kernel_size=2, stride=2, padding=0, dilation=1, ceil_mode=False)\n",
       "    (3): Conv1d(16, 32, kernel_size=(5,), stride=(1,), padding=(2,))\n",
       "    (4): ReLU()\n",
       "    (5): MaxPool1d(kernel_size=2, stride=2, padding=0, dilation=1, ceil_mode=False)\n",
       "  )\n",
       "  (fc): Sequential(\n",
       "    (0): Linear(in_features=12288, out_features=128, bias=True)\n",
       "    (1): ReLU()\n",
       "    (2): Linear(in_features=128, out_features=7, bias=True)\n",
       "  )\n",
       ")"
      ]
     },
     "execution_count": 6,
     "metadata": {},
     "output_type": "execute_result"
    }
   ],
   "source": [
    "# Load trained models and perform dummy predictions\n",
    "from model_builder import SimpleDNN, SimpleCNN\n",
    "import torch\n",
    "import torch.nn.functional as F\n",
    "\n",
    "# Load DNN model\n",
    "dnn_model = SimpleDNN(1536, len(np.unique(y_train)))\n",
    "checkpoint_dnn = torch.load(dnn_output_path)\n",
    "dnn_model.load_state_dict(checkpoint_dnn.get(\"state_dict\", checkpoint_dnn))\n",
    "dnn_model.eval()\n",
    "\n",
    "# Load CNN model\n",
    "cnn_model = SimpleCNN(len(np.unique(y_train)))\n",
    "checkpoint_cnn = torch.load(cnn_output_path)\n",
    "cnn_model.load_state_dict(checkpoint_cnn.get(\"state_dict\", checkpoint_cnn))\n",
    "cnn_model.eval()"
   ]
  },
  {
   "cell_type": "code",
   "execution_count": 8,
   "id": "1fda9595",
   "metadata": {},
   "outputs": [
    {
     "name": "stdout",
     "output_type": "stream",
     "text": [
      "DNN model prediction: Invasive carcinoma (encoded: 4), True: Invasive carcinoma (encoded: 4)\n",
      "CNN model prediction: Invasive carcinoma (encoded: 4), True: Invasive carcinoma (encoded: 4)\n"
     ]
    },
    {
     "name": "stderr",
     "output_type": "stream",
     "text": [
      "/tmp/ipykernel_30991/1659000359.py:2: FutureWarning: You are using `torch.load` with `weights_only=False` (the current default value), which uses the default pickle module implicitly. It is possible to construct malicious pickle data which will execute arbitrary code during unpickling (See https://github.com/pytorch/pytorch/blob/main/SECURITY.md#untrusted-models for more details). In a future release, the default value for `weights_only` will be flipped to `True`. This limits the functions that could be executed during unpickling. Arbitrary objects will no longer be allowed to be loaded via this mode unless they are explicitly allowlisted by the user via `torch.serialization.add_safe_globals`. We recommend you start setting `weights_only=True` for any use case where you don't have full control of the loaded file. Please open an issue on GitHub for any issues related to this experimental feature.\n",
      "  checkpoint = torch.load(dnn_output_path)\n"
     ]
    }
   ],
   "source": [
    "# Load saved label classes from the DNN model checkpoint\n",
    "checkpoint = torch.load(dnn_output_path)\n",
    "if \"label_classes\" in checkpoint:\n",
    "    original_labels = np.array(checkpoint[\"label_classes\"])\n",
    "\n",
    "# One sample demo predictions of DNN model\n",
    "sample_input = torch.tensor(X_test[0]).unsqueeze(0)  # Add batch dimension\n",
    "dnn_output = dnn_model(sample_input)\n",
    "dnn_pred_enc = F.softmax(dnn_output, dim=1).argmax(dim=1).item()\n",
    "dnn_pred_label = original_labels[dnn_pred_enc]\n",
    "true_label = original_labels[y_test[0]]\n",
    "print(f\"DNN model prediction: {dnn_pred_label} (encoded: {dnn_pred_enc}), True: {true_label} (encoded: {y_test[0]})\")\n",
    "\n",
    "# One sample demo predictions of CNN model\n",
    "sample_input = torch.tensor(X_test[0]).unsqueeze(0).unsqueeze(0)  # Add batch and channel dimensions\n",
    "cnn_output = cnn_model(sample_input)\n",
    "cnn_pred_enc = F.softmax(cnn_output, dim=1).argmax(dim=1).item()\n",
    "cnn_pred_label = original_labels[cnn_pred_enc]\n",
    "print(f\"CNN model prediction: {cnn_pred_label} (encoded: {cnn_pred_enc}), True: {true_label} (encoded: {y_test[0]})\")\n"
   ]
  }
 ],
 "metadata": {
  "kernelspec": {
   "display_name": "bioinfolab",
   "language": "python",
   "name": "python3"
  },
  "language_info": {
   "codemirror_mode": {
    "name": "ipython",
    "version": 3
   },
   "file_extension": ".py",
   "mimetype": "text/x-python",
   "name": "python",
   "nbconvert_exporter": "python",
   "pygments_lexer": "ipython3",
   "version": "3.9.7"
  }
 },
 "nbformat": 4,
 "nbformat_minor": 5
}
